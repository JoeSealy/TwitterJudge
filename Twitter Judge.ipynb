{
 "cells": [
  {
   "cell_type": "code",
   "execution_count": null,
   "metadata": {},
   "outputs": [],
   "source": [
    "from tweepy.streaming import StreamListener #class alows to listen based certain words\n",
    "from tweepy import OAuthHandler #auth based on ID in other file\n",
    "from tweepy import Stream #stream the tweets\n",
    "from tweepy import API #Twitter API\n",
    "from tweepy import Cursor \n",
    "import numpy as np\n",
    "import pandas as pds\n",
    "import matplotlib as plt"
   ]
  },
  {
   "cell_type": "code",
   "execution_count": null,
   "metadata": {},
   "outputs": [],
   "source": [
    "class ListenerOutPut(StreamListener):#allows us to stream the tweets\n",
    "    \n",
    "    def on_data(self, data):#takes in data from streamlistener\n",
    "        print(data)#prints the data\n",
    "        return True\n",
    "    \n",
    "    def on_error(self, status):#tells us if an error happens\n",
    "        if status == (420): #so if you cross the rate limit returns false on connection\n",
    "            return false\n",
    "        print(status)\n",
    "        \n",
    "    def __init__(self, filename_tweet):\n",
    "        self.filename_tweet = filename_tweet #writes to a file dont have to view in console\n",
    "        \n",
    "        \n",
    "        \n",
    "#all of this part allows us to stream tweet made in real time to STDOUT"
   ]
  },
  {
   "cell_type": "code",
   "execution_count": null,
   "metadata": {},
   "outputs": [],
   "source": [
    "class AuthenticateTwitter():\n",
    "    def AuthenticTwitterApp(self):\n",
    "        Authenticate = OAuthHandler(\"CONSUMER_KEY \",\"CONSUMER _S_KEY\")\n",
    "        Authenticate.set_access_token(\"ACCESS_TOKEN\",\"ACCESS_S_TOKEN\")\n",
    "        return Authenticate"
   ]
  },
  {
   "cell_type": "code",
   "execution_count": null,
   "metadata": {},
   "outputs": [],
   "source": [
    "class ClientTwitter():\n",
    "    def __init__ (self, user_twitter=None):\n",
    "        self.Authenticate = AuthenticateTwitter().AuthenticTwitterApp()\n",
    "        self.twitter_client = API(self.Authenticate) \n",
    "        self.user_twitter = user_twitter \n",
    "    #Gets your tweets and ready to display them\n",
    "    def Twitter_get_user(self, tweets):\n",
    "        My_Tweets = []\n",
    "        for tweet in Cursor(self.twitter_client.user_timeline, id=self.user_twitter).items(tweets):\n",
    "            My_Tweets.append(tweet)\n",
    "        return My_Tweets\n",
    "    #Gets your own timeline feed\n",
    "    def Twitter_Timeline_get_user(self, tweets):\n",
    "        My_TimeTweets = []\n",
    "        for tweet in Cursor(self.twitter_client.home_timeline, id=self.user_twitter).items(tweets):\n",
    "            My_TimeTweets.append(tweet)\n",
    "        return My_TimeTweets\n",
    "    #Gets your friends List to display it\n",
    "    def Twitter_Get_Friends(self, friends):\n",
    "        My_List_Friends = []\n",
    "        for friend in Cursor(self.twitter_client.friends, id=self.user_twitter).items(friends):\n",
    "            List_Friends.append(friend)\n",
    "        return My_List_Friends\n",
    "    #tweet analysis\n",
    "    def Twitter_API(self):\n",
    "        return self.twitter_client"
   ]
  },
  {
   "cell_type": "code",
   "execution_count": null,
   "metadata": {},
   "outputs": [],
   "source": [
    "class AnalyzeTweetTwitter():\n",
    "    def D_F_Tweets(self, tweets):\n",
    "        #DATA CLEANSING\n",
    "        #SHOWS TWEET\n",
    "        dftweet = pds.DataFrame(data=[tweet.text for tweet in TTweets], columns=['Tweets']) \n",
    "        #SHOWS HOW MANY RETWEETS\n",
    "        dftweet['Retweets']= np.array([tweet.retweet_count for tweet in TTweets]) \n",
    "        #SHOWS HOW MANY LIKES\n",
    "        dftweet['Likes']= np.array([tweet.favorite_count for tweet in TTweets])\n",
    "        #SHOWS SOURCE\n",
    "        dftweet['Source of tweet']= np.array([tweet.source for tweet in TTweets])\n",
    "        return dftweet\n",
    "        "
   ]
  },
  {
   "cell_type": "code",
   "execution_count": null,
   "metadata": {},
   "outputs": [],
   "source": [
    "class Tweets():\n",
    "    def __init__(self):\n",
    "        self.authenticate_twitter = AuthenticateTwitter()\n",
    "        \n",
    "    def Streaming_Tweets(self, HT_List, filename_tweet):#allows us to write to a file and is overall more convinient \n",
    "        \n",
    "        OPListener = ListenerOutPut(filename_tweet) #inherite\n",
    "        \n",
    "        ###Authenication###\n",
    "        Authenticate = self.authenticate_twitter.AuthenticTwitterApp()\n",
    "        \n",
    "        AuthStream = Stream(Authenticate, OPListener)\n",
    "        AuthStream.filter(track = HT_List)\n",
    "#allows us to see what we want when it comes to seeing live tweets"
   ]
  },
  {
   "cell_type": "code",
   "execution_count": null,
   "metadata": {},
   "outputs": [],
   "source": [
    "if __name__ == \"__main__\":\n",
    "    twitter_client = ClientTwitter()\n",
    "    analyze_tweet = AnalyzeTweetTwitter()\n",
    "    \n",
    "    api = twitter_client.Twitter_API()\n",
    "    TTweets = api.user_timeline(screen_name = \"Tyson_Fury\", count=10)\n",
    "    \n",
    "    dftweet = analyze_tweet.D_F_Tweets(TTweets)\n",
    "    print(dftweet.head(10))\n",
    "    \n",
    "    \n",
    "    \n",
    "    \n",
    "    \n",
    "    # HT_List = [\"Dog\", \"Cat\"]\n",
    "    #filename_tweet = \"tweetStream.txt\"\n",
    "    #twitter_client = ClientTwitter()\n",
    "    #print(twitter_client.Twitter_get_user(1))\n",
    "    #Tstream = Tweets()\n",
    "    #Tstream.Streaming_Tweets(HT_List, filename_tweet)"
   ]
  },
  {
   "cell_type": "code",
   "execution_count": null,
   "metadata": {},
   "outputs": [],
   "source": []
  },
  {
   "cell_type": "code",
   "execution_count": null,
   "metadata": {},
   "outputs": [],
   "source": []
  },
  {
   "cell_type": "code",
   "execution_count": null,
   "metadata": {},
   "outputs": [],
   "source": []
  }
 ],
 "metadata": {
  "kernelspec": {
   "display_name": "Python 3",
   "language": "python",
   "name": "python3"
  },
  "language_info": {
   "codemirror_mode": {
    "name": "ipython",
    "version": 3
   },
   "file_extension": ".py",
   "mimetype": "text/x-python",
   "name": "python",
   "nbconvert_exporter": "python",
   "pygments_lexer": "ipython3",
   "version": "3.7.4"
  }
 },
 "nbformat": 4,
 "nbformat_minor": 2
}
