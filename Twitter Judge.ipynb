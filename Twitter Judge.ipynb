{
 "cells": [
  {
   "cell_type": "code",
   "execution_count": null,
   "metadata": {},
   "outputs": [],
   "source": [
    "from tweepy.streaming import StreamListener #class alows to listen based certain words\n",
    "from tweepy import OAuthHandler #auth based on ID in other file\n",
    "from tweepy import Stream #stream the tweets\n",
    "from tweepy import API\n",
    "from tweepy import Cursor"
   ]
  },
  {
   "cell_type": "code",
   "execution_count": null,
   "metadata": {},
   "outputs": [],
   "source": [
    "class ListenerOutPut(StreamListener):#allows us to stream the tweets\n",
    "    \n",
    "    def on_data(self, data):#takes in data from streamlistener\n",
    "        print(data)#prints the data\n",
    "        return True\n",
    "    \n",
    "    def on_error(self, status):#tells us if an error happens\n",
    "        if status == (420): #so if you cross the rate limit returns false on connection\n",
    "            return false\n",
    "        print(status)\n",
    "        \n",
    "    def __init__(self, filename_tweet):\n",
    "        self.filename_tweet = filename_tweet #writes to a file dont have to view in console\n",
    "        \n",
    "        \n",
    "        \n",
    "#all of this part allows us to stream tweet made in real time to STDOUT"
   ]
  },
  {
   "cell_type": "code",
   "execution_count": null,
   "metadata": {},
   "outputs": [],
   "source": [
    "class AuthenticateTwitter():\n",
    "    def AuthenticTwitterApp(self):\n",
    "        Authenticate = OAuthHandler(\"CONSUMER_KEY\",\"CONSUMER _S_KEY \")\n",
    "        Authenticate.set_access_token(\"ACCESS_TOKEN\",\"ACCESS_S_TOKEN\")\n",
    "        return Authenticate"
   ]
  },
  {
   "cell_type": "code",
   "execution_count": null,
   "metadata": {},
   "outputs": [],
   "source": [
    "class ClientTwitter():\n",
    "    def __init__ (self):\n",
    "        self.Authenticate = AuthenticateTwitter().AuthenticTwitterApp()\n",
    "        self.twitter_client = API(self.Authenticate)\n",
    "        \n",
    "    def Tweet_get_user(self, num_tweets):\n",
    "        My_Tweets = []\n",
    "        for tweet in Cursor(self.twitter_client.user_timeline).items(num_tweets):\n",
    "            My_Tweets.append(tweet)\n",
    "        return My_Tweets"
   ]
  },
  {
   "cell_type": "code",
   "execution_count": null,
   "metadata": {},
   "outputs": [],
   "source": [
    "class Tweets():\n",
    "    def __init__(self):\n",
    "        self.authenticate_twitter = AuthenticateTwitter()\n",
    "        \n",
    "    def Streaming_Tweets(self, HT_List, filename_tweet):#allows us to write to a file and is overall more convinient \n",
    "        \n",
    "        OPListener = ListenerOutPut(filename_tweet) #inherite\n",
    "        \n",
    "        ###Authenication###\n",
    "        Authenticate = self.authenticate_twitter.AuthenticTwitterApp()\n",
    "        \n",
    "        AuthStream = Stream(Authenticate, OPListener)\n",
    "        AuthStream.filter(track = HT_List)\n",
    "#allows us to see what we want when it comes to seeing live tweets"
   ]
  },
  {
   "cell_type": "code",
   "execution_count": null,
   "metadata": {},
   "outputs": [],
   "source": [
    "if __name__ == \"__main__\":\n",
    "    HT_List = [\"Dog\", \"Cat\"]\n",
    "    filename_tweet = \"tweetStream.txt\"\n",
    "    twitter_client = ClientTwitter()\n",
    "    print(twitter_client.Tweet_get_user(1))\n",
    "    #Tstream = Tweets()\n",
    "    #Tstream.Streaming_Tweets(HT_List, filename_tweet)\n",
    "    \n",
    "    "
   ]
  },
  {
   "cell_type": "code",
   "execution_count": null,
   "metadata": {},
   "outputs": [],
   "source": []
  },
  {
   "cell_type": "code",
   "execution_count": null,
   "metadata": {},
   "outputs": [],
   "source": []
  }
 ],
 "metadata": {
  "kernelspec": {
   "display_name": "Python 3",
   "language": "python",
   "name": "python3"
  },
  "language_info": {
   "codemirror_mode": {
    "name": "ipython",
    "version": 3
   },
   "file_extension": ".py",
   "mimetype": "text/x-python",
   "name": "python",
   "nbconvert_exporter": "python",
   "pygments_lexer": "ipython3",
   "version": "3.7.4"
  }
 },
 "nbformat": 4,
 "nbformat_minor": 2
}
