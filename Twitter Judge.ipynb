{
 "cells": [
  {
   "cell_type": "code",
   "execution_count": 1,
   "metadata": {},
   "outputs": [],
   "source": [
    "from tweepy.streaming import StreamListener #class alows to listen based certain words\n",
    "from tweepy import OAuthHandler #auth based on ID in other file\n",
    "from tweepy import Stream #stream the tweets\n",
    "from tweepy import API #Twitter API\n",
    "from tweepy import Cursor \n",
    "import numpy as np\n",
    "import pandas as pd\n",
    "import matplotlib.pyplot as plt\n",
    "import nltk\n",
    "import re\n",
    "from textblob import TextBlob\n",
    "from scipy.stats import gaussian_kde"
   ]
  },
  {
   "cell_type": "code",
   "execution_count": 2,
   "metadata": {},
   "outputs": [],
   "source": [
    "class ListenerOutPut(StreamListener):#allows us to stream the tweets\n",
    "    \n",
    "    def on_data(self, data):#takes in data from streamlistener\n",
    "        print(data)#prints the data\n",
    "        return True\n",
    "    \n",
    "    def on_error(self, status):#tells us if an error happens\n",
    "        if status == (420): #so if you cross the rate limit returns false on connection\n",
    "            return false\n",
    "        \n",
    "        print(status)\n",
    "#all of this part allows us to stream tweet made in real time to STDOUT"
   ]
  },
  {
   "cell_type": "code",
   "execution_count": 3,
   "metadata": {},
   "outputs": [],
   "source": [
    "class AuthenticateTwitter():\n",
    "    \n",
    "    def AuthenticTwitterApp(self):\n",
    "Authenticate = OAuthHandler(\"CONSUMER TOKEN\",\"CONSUMER S TOKEN\")\n",
    "        Authenticate.set_access_token(\"ACCESS TOKEN\",\"ACCESS S TOKEN\")\n",
    "        \n",
    "        return Authenticate"
   ]
  },
  {
   "cell_type": "code",
   "execution_count": 4,
   "metadata": {},
   "outputs": [],
   "source": [
    "class ClientTwitter():\n",
    "    \n",
    "    def __init__ (self, user_twitter=None):\n",
    "        self.Authenticate = AuthenticateTwitter().AuthenticTwitterApp()\n",
    "        self.twitter_client = API(self.Authenticate) \n",
    "        self.user_twitter = user_twitter\n",
    "        \n",
    "    #tweet analysis\n",
    "    def Twitter_API(self):\n",
    "        \n",
    "        return self.twitter_client"
   ]
  },
  {
   "cell_type": "code",
   "execution_count": 5,
   "metadata": {},
   "outputs": [],
   "source": [
    "class AnalyseTweetTwitter():\n",
    "        \n",
    "    def D_F_Tweets(self, TTweets):\n",
    "        #DATA CLEANSING\n",
    "        #SHOWS TWEET\n",
    "        dftweet = pd.DataFrame(data=[tweet.text for tweet in TTweets], columns=['TTweets']) \n",
    "        #SHOWS SENTIMENT OF TWEET        \n",
    "        dftweet['SA of Tweet'] = np.array([SentimentTwitter().Tweet_Analyse_Sent(tweet) for tweet in dftweet['TTweets']])\n",
    "        #SHOWS HOW MANY LIKES\n",
    "        dftweet['Likes']= np.array([tweet.favorite_count for tweet in TTweets])\n",
    "        #WHEN CREATED\n",
    "        dftweet['Created']= np.array([tweet.created_at for tweet in TTweets])\n",
    "        #SHOWS SOURCE\n",
    "        dftweet['Source of tweet']= np.array([tweet.source for tweet in TTweets])\n",
    "        #SHOWS HOW MANY RETWEETS\n",
    "        dftweet['Retweets']= np.array([tweet.retweet_count for tweet in TTweets])\n",
    "        \n",
    "        return dftweet "
   ]
  },
  {
   "cell_type": "code",
   "execution_count": 6,
   "metadata": {},
   "outputs": [],
   "source": [
    "class AnalyseSecondTweetTwitter():\n",
    "    \n",
    "    def D_F_Tweets2(self, Tweets):\n",
    "        #DATA CLEANSING\n",
    "        #SHOWS TWEET\n",
    "        dftweet2 = pd.DataFrame(data=[tweet.text for tweet in Tweets], columns=['Tweets']) \n",
    "        #SHOWS SENTIMENT OF TWEET        \n",
    "        dftweet2['SA of Tweet'] = np.array([SentimentTwitter().Tweet_Analyse_Sent(tweet) for tweet in dftweet2['Tweets']])\n",
    "        #SHOWS HOW MANY LIKES\n",
    "        dftweet2['Likes']= np.array([tweet.favorite_count for tweet in Tweets])\n",
    "        #WHEN CREATED\n",
    "        dftweet2['Created']= np.array([tweet.created_at for tweet in Tweets])\n",
    "        #SHOWS SOURCE\n",
    "        dftweet2['Source of tweet']= np.array([tweet.source for tweet in Tweets])\n",
    "        #SHOWS HOW MANY RETWEETS\n",
    "        dftweet2['Retweets']= np.array([tweet.retweet_count for tweet in Tweets])\n",
    "        return dftweet2"
   ]
  },
  {
   "cell_type": "code",
   "execution_count": 7,
   "metadata": {},
   "outputs": [],
   "source": [
    "class SentimentTwitter():\n",
    "    \n",
    "    #Cleansing of the tweet\n",
    "    def Tweet_Cleansing(self, tweet):\n",
    "        \n",
    "        #takes out the characters that dont need to be there\n",
    "        return ' '.join(re.sub(\"(\\w+:\\/\\/\\S+)|(@[A-Za-z0-9]+)|([^0-9A-Za-z \\t])\", \" \",tweet).split())\n",
    "    \n",
    "    def Tweet_Analyse_Sent(self, tweet):\n",
    "        AnalysedTweet = TextBlob(self.Tweet_Cleansing(tweet))\n",
    "        \n",
    "        if AnalysedTweet.sentiment.polarity > 0:   #\n",
    "            return 1\n",
    "        elif AnalysedTweet.sentiment.polarity == 0:\n",
    "            return 0\n",
    "        else:\n",
    "            return -1"
   ]
  },
  {
   "cell_type": "code",
   "execution_count": 8,
   "metadata": {},
   "outputs": [
    {
     "name": "stdout",
     "output_type": "stream",
     "text": [
      "                                              TTweets  SA of Tweet  Likes  \\\n",
      "0   An African Giant🤴🏿\\n@thisisWurlD @afropolitain...            0  12326   \n",
      "1                          🤴🏿 https://t.co/nanMke2BqQ            0  49597   \n",
      "2   Ima bout to lay the smack down on your candy A...           -1  15916   \n",
      "3   👑 #TilThisDay \\n\\n#WilderFury2 #WeighIn https:...            0   6064   \n",
      "4   When old pillow hands says he gone knock me ou...            1  11754   \n",
      "5   It’s almost that time again, \\nSo what round w...           -1   7338   \n",
      "6                👇🏿👇🏿👇🏿👇🏿👇🏿👇🏿 https://t.co/RTdgZ2cvVE            0   1633   \n",
      "7   Fee Fi Fo Fum. \\nI can’t wait to knock out thi...            0   5840   \n",
      "8   Order the PPV now: https://t.co/u1O8it6Ggj\\n\\n...            1    373   \n",
      "9   After this Saturday, all questions will be ans...            1   4998   \n",
      "10  One week. Don’t blink. \\n\\n#BombZquad #WilderF...            0   7684   \n",
      "11  #TilThisDay https://t.co/LTXY6ksWgq https://t....            0   1886   \n",
      "12  RT @MGMGrand: Grand Garden Arena is where cham...            1      0   \n",
      "13                         ☠️ https://t.co/u8jEIp8jpT            0   4572   \n",
      "14  Go vote, then click that button...\\n\\n✊🏿 https...            0    540   \n",
      "15                         ✌🏿 https://t.co/g3yNm3Gri0            0   5084   \n",
      "16  SPEAK it.\\nBELIEVE it.\\nRECEIVE it.\\n👑 ✊🏿\\n#Bo...            0   6414   \n",
      "17  Stop drowning in drama,\\nPEACE is ESSENTIAL yo...            0   2905   \n",
      "18                        🗣🗣🗣 https://t.co/SNlpLTkgI3            0    895   \n",
      "19  RT @MGMGrand: Grand Garden Arena is ready for ...            1      0   \n",
      "\n",
      "               Created     Source of tweet  Retweets  \n",
      "0  2020-02-29 23:07:31  Twitter for iPhone      2998  \n",
      "1  2020-02-29 04:59:51  Twitter for iPhone     10440  \n",
      "2  2020-02-22 05:32:08  Twitter for iPhone      3999  \n",
      "3  2020-02-22 01:20:14  Twitter for iPhone      1030  \n",
      "4  2020-02-20 15:19:44  Twitter for iPhone      2670  \n",
      "5  2020-02-20 01:58:47  Twitter for iPhone      1001  \n",
      "6  2020-02-19 23:50:57  Twitter for iPhone       183  \n",
      "7  2020-02-18 23:54:54  Twitter for iPhone      1027  \n",
      "8  2020-02-17 18:27:06     Twitter Web App        40  \n",
      "9  2020-02-17 18:27:06     Twitter Web App       900  \n",
      "10 2020-02-15 23:43:58  Twitter for iPhone      1292  \n",
      "11 2020-02-14 18:14:48  Twitter for iPhone       221  \n",
      "12 2020-02-13 02:35:12  Twitter for iPhone       123  \n",
      "13 2020-02-11 23:26:21           TweetDeck       773  \n",
      "14 2020-02-10 18:27:41           TweetDeck        95  \n",
      "15 2020-02-08 19:29:00  Twitter for iPhone       838  \n",
      "16 2020-02-06 02:21:30  Twitter for iPhone      1150  \n",
      "17 2020-02-01 16:28:31  Twitter for iPhone       696  \n",
      "18 2020-01-31 21:52:06  Twitter for iPhone        75  \n",
      "19 2020-01-29 22:18:29           TweetDeck       143  \n",
      "                                               Tweets  SA of Tweet  Likes  \\\n",
      "0   This months front cover on ringtv magazine, fi...            1   4167   \n",
      "1   Morecambe bay, where dreams come true.❤️🙏🏻👍🏻 @...            1   6688   \n",
      "2   Last year we gave exclusive access for the fir...            1  27208   \n",
      "3   The final episode of my show Tyson Fury: The G...            1   6240   \n",
      "4   Been an amazing comeback over the last 2 years...            1  55373   \n",
      "5   Hope you enjoyed tonight’s episode. 2 Days to ...            1  12626   \n",
      "6   @wowhydrate @ Paradise, Nevada https://t.co/ZX...            0     36   \n",
      "7   https://t.co/zcXSuoX2lH @ Las Vegas, Nevada ht...            0    631   \n",
      "8   In all good stores near  you, 2020 @ Las Vegas...            1   1516   \n",
      "9   Feeling ready now for feb22 we going on a trip...            1   3094   \n",
      "10  RT @BritishGQ: “I’ll just fight anybody, the l...           -1      0   \n",
      "11  RT @frankbrunoboxer: One word “Proud” @Tyson_F...            1      0   \n",
      "12  RT @PBConFOX: READY. FOR. WAR.\\n\\n@Tyson_Fury ...            1      0   \n",
      "13  If you enjoyed tonight’s episode and want the ...            1   2220   \n",
      "14  RT @parisfury1: Omg it’s so good to see it all...            1      0   \n",
      "15  Great chatting boxing with you Bob, #legendint...            1    388   \n",
      "16  #TysonFury: The Gypsy King tonight at 9pm on @...            0   1743   \n",
      "17  Great full for happiness #BLESSEDISHISHOLYNAME...            1    354   \n",
      "18  Thanks for the clips boxing_universe_ @ Paradi...            1    200   \n",
      "19  Thanks for the clips boxing_universe_ @ Paradi...            1    170   \n",
      "\n",
      "               Created     Source of tweet  Retweets  \n",
      "0  2020-03-11 20:12:10           Instagram       317  \n",
      "1  2020-03-06 11:54:34           Instagram       205  \n",
      "2  2020-03-05 21:16:42           Instagram       740  \n",
      "3  2020-03-05 12:43:23           Instagram       447  \n",
      "4  2020-02-29 16:53:24           Instagram      2407  \n",
      "5  2020-02-20 22:23:28  Twitter for iPhone       757  \n",
      "6  2020-02-17 15:58:30           Instagram         0  \n",
      "7  2020-02-17 15:57:48           Instagram        37  \n",
      "8  2020-02-15 22:08:29           Instagram       114  \n",
      "9  2020-02-14 05:23:32           Instagram       174  \n",
      "10 2020-02-13 23:02:02     Twitter Web App       109  \n",
      "11 2020-02-13 23:01:33     Twitter Web App      1092  \n",
      "12 2020-02-13 23:00:53     Twitter Web App       233  \n",
      "13 2020-02-13 22:10:00           TweetDeck       153  \n",
      "14 2020-02-13 21:51:40     Twitter Web App       157  \n",
      "15 2020-02-13 20:26:53           Instagram        18  \n",
      "16 2020-02-13 15:46:14           Instagram       191  \n",
      "17 2020-02-12 04:56:02           Instagram        21  \n",
      "18 2020-02-11 19:50:48           Instagram        19  \n",
      "19 2020-02-11 19:49:53           Instagram        16  \n"
     ]
    }
   ],
   "source": [
    "if __name__ == \"__main__\":\n",
    "    twitter_client = ClientTwitter()\n",
    "    analyse_tweet = AnalyseTweetTwitter()\n",
    "    analyse_second_tweet = AnalyseSecondTweetTwitter()\n",
    "    api = twitter_client.Twitter_API()\n",
    "    \n",
    "    TTweets = api.user_timeline(screen_name = \"BronzeBomber\", count = 20)\n",
    "    Tweets = api.user_timeline(screen_name = \"TYSON_FURY\", count = 20)\n",
    "    \n",
    "    #TTweets = api.search(q = \"coronavirus\", lang = \"en\", result_type = \"recent\", count = 20)\n",
    "    \n",
    "    \n",
    "    dftweet = analyse_tweet.D_F_Tweets(TTweets) #gets what you want out of the tweet\n",
    "    dftweet2 = analyse_second_tweet.D_F_Tweets2(Tweets)\n",
    "    print(dftweet)\n",
    "    print(dftweet2)"
   ]
  },
  {
   "cell_type": "code",
   "execution_count": 9,
   "metadata": {},
   "outputs": [
    {
     "data": {
      "image/png": "[encoded data removed]",
      "text/plain": [
       "<Figure size 648x216 with 1 Axes>"
      ]
     },
     "metadata": {
      "needs_background": "light"
     },
     "output_type": "display_data"
    }
   ],
   "source": [
    "#Time Series\n",
    "LikesToTime = pd.Series(data = dftweet['Likes'].values, index = dftweet['Created'])\n",
    "LikesToTime.plot(figsize=(9,3), color='b')\n",
    "LikesToTime = pd.Series(data = dftweet2['Likes'].values, index = dftweet2['Created'])\n",
    "LikesToTime.plot(figsize=(9,3), color='r')\n",
    "plt.title('Likes in relation to time')\n",
    "plt.show()"
   ]
  },
  {
   "cell_type": "code",
   "execution_count": 24,
   "metadata": {},
   "outputs": [
    {
     "data": {
      "image/png": "[encoded data removed]",
      "text/plain": [
       "<Figure size 432x288 with 3 Axes>"
      ]
     },
     "metadata": {
      "needs_background": "light"
     },
     "output_type": "display_data"
    }
   ],
   "source": [
    "rng = dftweet['SA of Tweet']\n",
    "x = dftweet['Created']\n",
    "y = dftweet['Likes']\n",
    "colors = rng \n",
    "sizes = 100 + (rng * 20)  \n",
    "\n",
    "rng2 = dftweet2['SA of Tweet']\n",
    "x2 = dftweet2['Created']\n",
    "y2 = dftweet2['Likes']\n",
    "colors2 = rng2\n",
    "sizes2 = 100 + (rng2 * 20)\n",
    "\n",
    "\n",
    "plt.scatter(x, y, c=colors, s=sizes, alpha=0.3,\n",
    "            cmap='viridis')\n",
    "plt.colorbar();\n",
    "plt.scatter(x2, y2, c=colors2, s=sizes2, alpha=0.3,\n",
    "            cmap='Set3')\n",
    "plt.colorbar();  # show color scale"
   ]
  },
  {
   "cell_type": "code",
   "execution_count": null,
   "metadata": {},
   "outputs": [],
   "source": []
  },
  {
   "cell_type": "code",
   "execution_count": null,
   "metadata": {},
   "outputs": [],
   "source": []
  },
  {
   "cell_type": "code",
   "execution_count": null,
   "metadata": {},
   "outputs": [],
   "source": []
  }
 ],
 "metadata": {
  "kernelspec": {
   "display_name": "Python 3",
   "language": "python",
   "name": "python3"
  },
  "language_info": {
   "codemirror_mode": {
    "name": "ipython",
    "version": 3
   },
   "file_extension": ".py",
   "mimetype": "text/x-python",
   "name": "python",
   "nbconvert_exporter": "python",
   "pygments_lexer": "ipython3",
   "version": "3.7.6"
  }
 },
 "nbformat": 4,
 "nbformat_minor": 2
}
