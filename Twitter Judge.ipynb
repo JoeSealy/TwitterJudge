{
 "cells": [
  {
   "cell_type": "code",
   "execution_count": null,
   "metadata": {},
   "outputs": [],
   "source": [
    "from tweepy.streaming import StreamListener #class alows to listen based certain words\n",
    "from tweepy import OAuthHandler #auth based on ID in other file\n",
    "from tweepy import Stream #stream the tweets\n",
    "from tweepy import API #Twitter API\n",
    "from tweepy import Cursor \n",
    "import numpy as np\n",
    "import pandas as pd\n",
    "import matplotlib.pyplot as plt\n",
    "import nltk\n",
    "import re\n",
    "from textblob import TextBlob\n",
    "from scipy.stats import gaussian_kde\n",
    "from vaderSentiment.vaderSentiment import SentimentIntensityAnalyzer as SIA"
   ]
  },
  {
   "cell_type": "code",
   "execution_count": null,
   "metadata": {},
   "outputs": [],
   "source": [
    "class AuthenticateTwitter():\n",
    "    #API access\n",
    "    def AuthenticTwitterApp(self):\n",
    "        Authenticate = OAuthHandler(\"CONSUMER TOKEN\",\"CONSUMER S TOKEN\")\n",
    "        Authenticate.set_access_token(\"ACCESS TOKEN\",\"ACCESS S TOKEN\")\n",
    "        \n",
    "        return Authenticate"
   ]
  },
  {
   "cell_type": "code",
   "execution_count": null,
   "metadata": {},
   "outputs": [],
   "source": [
    "class ClientTwitter():\n",
    "    #API Set up\n",
    "    def __init__ (self, user_twitter=None):\n",
    "        self.Authenticate = AuthenticateTwitter().AuthenticTwitterApp()\n",
    "        self.twitter_client = API(self.Authenticate) \n",
    "        self.user_twitter = user_twitter\n",
    "        \n",
    "    def Twitter_API(self):\n",
    "        \n",
    "        return self.twitter_client"
   ]
  },
  {
   "cell_type": "code",
   "execution_count": null,
   "metadata": {},
   "outputs": [],
   "source": [
    "class AnalyseTweetTwitter():\n",
    "        \n",
    "    def D_F_Tweets(self, TTweets):\n",
    "        #DATA CLEANSING\n",
    "        #SHOWS TWEET\n",
    "        dftweet = pd.DataFrame(data=[tweet.text for tweet in TTweets], columns=['TTweets']) \n",
    "        #SHOWS SENTIMENT OF TWEET        \n",
    "        dftweet['TextBlob SA'] = np.array([SentimentTwitter().TextBlob_Tweet_Analyse_Sent(tweet) for tweet in dftweet['TTweets']])\n",
    "        dftweet['Vader SA'] = np.array([SentimentTwitter().Vader_Tweet_Analyse_sent(tweet) for tweet in dftweet['TTweets']])\n",
    "        #SHOWS HOW MANY LIKES\n",
    "        dftweet['Likes']= np.array([tweet.favorite_count for tweet in TTweets])\n",
    "        #WHEN CREATED\n",
    "        dftweet['Created']= np.array([tweet.created_at for tweet in TTweets])\n",
    "        #SHOWS SOURCE\n",
    "        dftweet['Source of tweet']= np.array([tweet.source for tweet in TTweets])\n",
    "        #SHOWS HOW MANY RETWEETS\n",
    "        dftweet['Retweets']= np.array([tweet.retweet_count for tweet in TTweets])\n",
    "        \n",
    "        return dftweet "
   ]
  },
  {
   "cell_type": "code",
   "execution_count": null,
   "metadata": {},
   "outputs": [],
   "source": [
    "class SentimentTwitter():\n",
    "    \n",
    "    #Cleansing of the tweet\n",
    "    def Tweet_Cleansing(self, tweet):\n",
    "        #takes out the characters that dont need to be there\n",
    "        return ' '.join(re.sub(\"(\\w+:\\/\\/\\S+)|(@[A-Za-z0-9]+)|([^0-9A-Za-z \\t])\", \" \",tweet).split())\n",
    "    \n",
    "    def TextBlob_Tweet_Analyse_Sent(self, tweet):\n",
    "        TextBlobAnalysedTweet = TextBlob(self.Tweet_Cleansing(tweet))#textblob gets the clean tweet and analyse's the tweet\n",
    "        if TextBlobAnalysedTweet.sentiment.polarity >= 0.5:\n",
    "            return 1\n",
    "        elif TextBlobAnalysedTweet.sentiment.polarity > 0 and TextBlobAnalysedTweet.sentiment.polarity < 0.5:\n",
    "            return 0.5\n",
    "        elif TextBlobAnalysedTweet.sentiment.polarity == 0:\n",
    "            return 0\n",
    "        elif TextBlobAnalysedTweet.sentiment.polarity < 0 and TextBlobAnalysedTweet.sentiment.polarity > 0.5:\n",
    "            return -0.5\n",
    "        else:\n",
    "            return -1\n",
    "    \n",
    "    def Vader_Tweet_Analyse_sent(self, tweet):\n",
    "        VaderAnalysedTweet = SIA()\n",
    "        vs = VaderAnalysedTweet.polarity_scores(self.Tweet_Cleansing(tweet))\n",
    "        if vs['compound'] >= 0.5:\n",
    "            return 1\n",
    "        elif vs['compound'] > 0 and vs['compound'] < 0.5:\n",
    "            return 0.5\n",
    "        elif vs['compound'] == 0:\n",
    "            return 0\n",
    "        elif vs['compound'] < 0 and vs['compound'] > 0.5:\n",
    "            return -0.5\n",
    "        else:\n",
    "            return -1\n",
    "    "
   ]
  },
  {
   "cell_type": "code",
   "execution_count": null,
   "metadata": {},
   "outputs": [],
   "source": [
    "if __name__ == \"__main__\":\n",
    "    twitter_client = ClientTwitter()\n",
    "    analyse_tweet = AnalyseTweetTwitter()\n",
    "    api = twitter_client.Twitter_API()\n",
    "    \n",
    "    TTweets = api.user_timeline(screen_name = \"BorisJohnson\", count = 20)\n",
    "    Tweets = api.user_timeline(screen_name = \"jeremycorbyn\", count = 20)\n",
    "    \n",
    "    #TTweets = api.search(q = \"cats\", lang = \"en\", result_type = \"recent\", count = 20)\n",
    "    \n",
    "    \n",
    "    dftweet = analyse_tweet.D_F_Tweets(TTweets) #gets what you want out of the tweet\n",
    "    dftweet2 = analyse_tweet.D_F_Tweets(Tweets)\n",
    "    print(dftweet)\n",
    "    print(dftweet2)"
   ]
  },
  {
   "cell_type": "code",
   "execution_count": null,
   "metadata": {},
   "outputs": [],
   "source": [
    "#Time Series\n",
    "LikesToTime = pd.Series(data = dftweet['Likes'].values, index = dftweet['Created'])\n",
    "LikesToTime.plot(figsize=(9,3), color='b')\n",
    "LikesToTime = pd.Series(data = dftweet2['Likes'].values, index = dftweet2['Created'])\n",
    "LikesToTime.plot(figsize=(9,3), color='r')\n",
    "plt.title('Likes in relation to time')\n",
    "plt.show()"
   ]
  },
  {
   "cell_type": "code",
   "execution_count": null,
   "metadata": {},
   "outputs": [],
   "source": [
    "rng = dftweet['TextBlob SA']\n",
    "x = dftweet['Created']\n",
    "y = dftweet['Likes']\n",
    "colors = rng \n",
    "sizes = 100 + (rng * 20)  \n",
    "\n",
    "rng2 = dftweet2['TextBlob SA']\n",
    "x2 = dftweet2['Created']\n",
    "y2 = dftweet2['Likes']\n",
    "colors2 = rng2\n",
    "sizes2 = 100 + (rng2 * 20)\n",
    "\n",
    "\n",
    "plt.scatter(x, y, c=colors, s=sizes, alpha=0.3,\n",
    "            cmap='viridis')\n",
    "plt.colorbar();\n",
    "plt.scatter(x2, y2, c=colors2, s=sizes2, alpha=0.3,\n",
    "            cmap='Set3')\n",
    "plt.colorbar();  # show color scale"
   ]
  },
  {
   "cell_type": "code",
   "execution_count": null,
   "metadata": {},
   "outputs": [],
   "source": [
    "SAToTime = pd.Series(data = dftweet['TextBlob SA'].values, index = dftweet['TTweets'])\n",
    "SAToTime.plot(figsize=(9,3), color='b')\n",
    "SAToTime = pd.Series(data = dftweet['Vader SA'].values, index = dftweet['TTweets'])\n",
    "SAToTime.plot(figsize=(9,3), color='r')\n",
    "plt.title('Difference in SA between the programs')\n",
    "plt.show()"
   ]
  }
 ],
 "metadata": {
  "kernelspec": {
   "display_name": "Python 3",
   "language": "python",
   "name": "python3"
  },
  "language_info": {
   "codemirror_mode": {
    "name": "ipython",
    "version": 3
   },
   "file_extension": ".py",
   "mimetype": "text/x-python",
   "name": "python",
   "nbconvert_exporter": "python",
   "pygments_lexer": "ipython3",
   "version": "3.7.4"
  }
 },
 "nbformat": 4,
 "nbformat_minor": 2
}
