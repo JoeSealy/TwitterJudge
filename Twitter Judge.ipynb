{
 "cells": [
  {
   "cell_type": "code",
   "execution_count": null,
   "metadata": {},
   "outputs": [],
   "source": [
    "from tweepy.streaming import StreamListener #class alows to listen based certain words\n",
    "from tweepy import OAuthHandler #auth based on ID in other file\n",
    "from tweepy import Stream #stream the tweets\n",
    "from tweepy import API #Twitter API\n",
    "from tweepy import Cursor \n",
    "import numpy as np\n",
    "import pandas as pd\n",
    "import matplotlib.pyplot as plt\n",
    "import nltk\n",
    "import re\n",
    "from textblob import TextBlob"
   ]
  },
  {
   "cell_type": "code",
   "execution_count": null,
   "metadata": {},
   "outputs": [],
   "source": [
    "class ListenerOutPut(StreamListener):#allows us to stream the tweets\n",
    "    \n",
    "    def on_data(self, data):#takes in data from streamlistener\n",
    "        print(data)#prints the data\n",
    "        return True\n",
    "    \n",
    "    def on_error(self, status):#tells us if an error happens\n",
    "        if status == (420): #so if you cross the rate limit returns false on connection\n",
    "            return false\n",
    "        \n",
    "        print(status)\n",
    "#all of this part allows us to stream tweet made in real time to STDOUT"
   ]
  },
  {
   "cell_type": "code",
   "execution_count": null,
   "metadata": {},
   "outputs": [],
   "source": [
    "class AuthenticateTwitter():\n",
    "    \n",
    "    def AuthenticTwitterApp(self):\n",
    "        Authenticate = OAuthHandler(\"CONSUMER_KEY\",\"CONSUMER _S_KEY\")\n",
    "        Authenticate.set_access_token(\"ACCESS_TOKEN\",\"ACCESS_S_TOKEN\")\n",
    "        \n",
    "        return Authenticate"
   ]
  },
  {
   "cell_type": "code",
   "execution_count": null,
   "metadata": {},
   "outputs": [],
   "source": [
    "class ClientTwitter():\n",
    "    \n",
    "    def __init__ (self, user_twitter=None):\n",
    "        self.Authenticate = AuthenticateTwitter().AuthenticTwitterApp()\n",
    "        self.twitter_client = API(self.Authenticate) \n",
    "        self.user_twitter = user_twitter\n",
    "        \n",
    "    #tweet analysis\n",
    "    def Twitter_API(self):\n",
    "        \n",
    "        return self.twitter_client"
   ]
  },
  {
   "cell_type": "code",
   "execution_count": null,
   "metadata": {},
   "outputs": [],
   "source": [
    "class AnalyseTweetTwitter():\n",
    "        \n",
    "    def D_F_Tweets(self, TTweets):\n",
    "        #DATA CLEANSING\n",
    "        #SHOWS TWEET\n",
    "        dftweet = pd.DataFrame(data=[tweet.text for tweet in TTweets], columns=['TTweets']) \n",
    "        #SHOWS SENTIMENT OF TWEET        \n",
    "        dftweet['SA of Tweet'] = np.array([SentimentTwitter().Tweet_Analyse_Sent(tweet) for tweet in dftweet['TTweets']])\n",
    "        #SHOWS HOW MANY LIKES\n",
    "        dftweet['Likes']= np.array([tweet.favorite_count for tweet in TTweets])\n",
    "        #WHEN CREATED\n",
    "        dftweet['Created']= np.array([tweet.created_at for tweet in TTweets])\n",
    "        #SHOWS SOURCE\n",
    "        dftweet['Source of tweet']= np.array([tweet.source for tweet in TTweets])\n",
    "        #SHOWS HOW MANY RETWEETS\n",
    "        dftweet['Retweets']= np.array([tweet.retweet_count for tweet in TTweets]) \n",
    "        \n",
    "        return dftweet"
   ]
  },
  {
   "cell_type": "code",
   "execution_count": null,
   "metadata": {},
   "outputs": [],
   "source": [
    "class SentimentTwitter():\n",
    "    \n",
    "    #Cleansing of the tweet\n",
    "    def Tweet_Cleansing(self, tweet):\n",
    "        \n",
    "        #takes out the characters that dont need to be there\n",
    "        return ' '.join(re.sub(\"(\\w+:\\/\\/\\S+)|(@[A-Za-z0-9]+)|([^0-9A-Za-z \\t])\", \" \",tweet).split())\n",
    "    \n",
    "    def Tweet_Analyse_Sent(self, tweet):\n",
    "        AnalysedTweet = TextBlob(self.Tweet_Cleansing(tweet))\n",
    "        \n",
    "        if AnalysedTweet.sentiment.polarity > 0:   #\n",
    "            return 1\n",
    "        elif AnalysedTweet.sentiment.polarity == 0:\n",
    "            return 0\n",
    "        else:\n",
    "            return -1"
   ]
  },
  {
   "cell_type": "code",
   "execution_count": null,
   "metadata": {},
   "outputs": [],
   "source": [
    "if __name__ == \"__main__\":\n",
    "    twitter_client = ClientTwitter()\n",
    "    analyse_tweet = AnalyseTweetTwitter()\n",
    "    api = twitter_client.Twitter_API()\n",
    "    \n",
    "    TTweets = api.user_timeline(screen_name = \"BorisJohnson\", count = 20)\n",
    "    \n",
    "    #TTweets = api.search(q = \"coronavirus\", lang = \"en\", result_type = \"recent\", count = 20)\n",
    "    \n",
    "    \n",
    "    \n",
    "    \n",
    "    dftweet = analyse_tweet.D_F_Tweets(TTweets) #gets what you want out of the tweet\n",
    "    print(dftweet)"
   ]
  },
  {
   "cell_type": "code",
   "execution_count": null,
   "metadata": {},
   "outputs": [],
   "source": [
    "#Time Series\n",
    "LikesToTime = pd.Series(data = dftweet['Likes'].values, index = dftweet['Created'])\n",
    "LikesToTime.plot(figsize=(9,3), color='b')\n",
    "plt.show()"
   ]
  },
  {
   "cell_type": "code",
   "execution_count": null,
   "metadata": {},
   "outputs": [],
   "source": []
  },
  {
   "cell_type": "code",
   "execution_count": null,
   "metadata": {},
   "outputs": [],
   "source": []
  },
  {
   "cell_type": "code",
   "execution_count": null,
   "metadata": {},
   "outputs": [],
   "source": []
  }
 ],
 "metadata": {
  "kernelspec": {
   "display_name": "Python 3",
   "language": "python",
   "name": "python3"
  },
  "language_info": {
   "codemirror_mode": {
    "name": "ipython",
    "version": 3
   },
   "file_extension": ".py",
   "mimetype": "text/x-python",
   "name": "python",
   "nbconvert_exporter": "python",
   "pygments_lexer": "ipython3",
   "version": "3.7.4"
  }
 },
 "nbformat": 4,
 "nbformat_minor": 2
}
